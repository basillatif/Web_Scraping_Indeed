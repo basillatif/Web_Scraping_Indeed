{
 "cells": [
  {
   "cell_type": "code",
   "execution_count": 1,
   "metadata": {},
   "outputs": [],
   "source": [
    "## Import the necessary packages\n",
    "from bs4 import BeautifulSoup\n",
    "import urllib\n",
    "import re\n",
    "import pandas as pd\n",
    "import requests\n",
    "from urllib.request import urlopen"
   ]
  },
  {
   "cell_type": "code",
   "execution_count": 6,
   "metadata": {
    "scrolled": false
   },
   "outputs": [],
   "source": [
    "from urllib.request import urlopen\n",
    "url = \"https://www.indeed.com/cmp?q=Data+Scientist&l=Los+Angeles%2C+CA&from=discovery\"\n",
    "response = requests.get(url)\n",
    "company = []\n",
    "reviewer_title=[]\n",
    "review_date=[]\n",
    "title=[]\n",
    "rating=[]\n",
    "review=[]\n",
    "pros=[]\n",
    "cons=[]\n",
    "reviews=[]\n",
    "pros_s=[]\n",
    "cons_s=[]\n",
    "page= response.text\n",
    "soup = BeautifulSoup(page, 'lxml')\n",
    "all_matches = soup.find_all('a', attrs={'itemprop':['name'],'class':['cmp-CompanyWidget-name'],'data-tn-element':['title-link']})\n",
    "for i in all_matches:\n",
    "    url_company=\"https://www.indeed.com\"+i['href']\n",
    "    response_comp = requests.get(url_company)\n",
    "    page_comp= response_comp.text\n",
    "    soup_comp = BeautifulSoup(page_comp, 'lxml')\n",
    "    all_reviews = soup_comp.find_all('a', attrs={'data-tn-element':['reviews-tab'],'class':[\"cmp-MenuItem-link cmp-u-noUnderline\"]})\n",
    "    for j in all_reviews:\n",
    "        url_reviews=\"https://www.indeed.com\"+j['href']\n",
    "        response_rewiew = requests.get(url_reviews)\n",
    "        page_rewiew= response_rewiew.text\n",
    "        soup_review = BeautifulSoup(page_rewiew, 'lxml')\n",
    "        comp_name = soup_review.findAll('div',attrs={'class':['cmp-company-name'],'itemprop':['name']})\n",
    "        if comp_name==[]:\n",
    "            comp_name = soup_review.findAll('div',attrs={'class':['cmp-CompanyName'],'itemprop':['name']})\n",
    "        company.append([row.text for row in comp_name])\n",
    "        title_of_reviewer = soup_review.findAll('span',attrs={'class':['cmp-reviewer']})\n",
    "        if title_of_reviewer==[]:\n",
    "            title_of_reviewer = soup_review.findAll('span',attrs={'class':['cmp-ReviewAuthor'],'itemprop':['author']})\n",
    "        reviewer_title.append([row.text for row in title_of_reviewer])\n",
    "        date_of_review = soup_review.findAll('span',attrs={'class':['cmp-review-date-created']})\n",
    "        if date_of_review!=[]:\n",
    "            date_of_review=[row.text for row in date_of_review]\n",
    "        if date_of_review==[]:\n",
    "            date_of_review= soup_review.findAll('span',attrs={'class':['cmp-ReviewAuthor'],'itemprop':['author'],'itemtype':[\"http://schema.org/Person\"]})\n",
    "            date_of_review=[row.text for row in date_of_review]\n",
    "            for x in range(len(date_of_review)):\n",
    "                element=date_of_review[x].split('-')[-1]\n",
    "                date_of_review[x]=element\n",
    "        review_date.append(date_of_review)\n",
    "        rev_title = soup_review.findAll('div',attrs={'class':['cmp-review-title']})\n",
    "        if rev_title==[]:\n",
    "            rev_title = soup_review.findAll('div',attrs={'class':['cmp-Review-title']})\n",
    "        title.append([row.text for row in rev_title])\n",
    "        rating_number = soup_review.findAll('div',attrs={'class':['cmp-ratingNumber']})\n",
    "        if rating_number==[]:\n",
    "            rating_number = soup_review.findAll('div',attrs={'class':['cmp-ReviewRating-text']})\n",
    "        rating.append([row.text for row in rating_number])\n",
    "        #pro_content = soup_review.findAll('div',attrs={'class':['cmp-review-pro-text']})\n",
    "        #pros.append([row.text for row in pro_content])\n",
    "        #cons_content = soup_review.findAll('div',attrs={'class':['cmp-review-con-text']})\n",
    "        #cons.append([row.text for row in cons_content])\n",
    "        "
   ]
  },
  {
   "cell_type": "code",
   "execution_count": 3,
   "metadata": {},
   "outputs": [
    {
     "ename": "IndentationError",
     "evalue": "unexpected indent (<ipython-input-3-955090b2dd2b>, line 2)",
     "output_type": "error",
     "traceback": [
      "\u001b[0;36m  File \u001b[0;32m\"<ipython-input-3-955090b2dd2b>\"\u001b[0;36m, line \u001b[0;32m2\u001b[0m\n\u001b[0;31m    if review_content!=[]:\u001b[0m\n\u001b[0m    ^\u001b[0m\n\u001b[0;31mIndentationError\u001b[0m\u001b[0;31m:\u001b[0m unexpected indent\n"
     ]
    }
   ],
   "source": [
    "review_content = soup_review.findAll('div',attrs={'class':['cmp-review-content-container']})\n",
    "        if review_content!=[]:\n",
    "            reviews=[row.text for row in review_content]\n",
    "            for z in range(len(reviews)):\n",
    "                review_element=reviews[z].split('Pros')[0]\n",
    "                reviews[z]=review_element\n",
    "                pros_element=reviews[z].split('Pros')[-1].split('Cons')[0]\n",
    "                if pros_element!=review_element:\n",
    "                    pros_s[z]=pros_element\n",
    "                else:\n",
    "                    pros_s[z]=\"NA\"\n",
    "                cons_element=reviews[z].split('Pros')[-1].split('Cons')[-1]\n",
    "                if cons_element!=review_element:\n",
    "                    cons_s[z]=cons_element\n",
    "                else:\n",
    "                    cons_s[z]=\"NA\"\n",
    "        if review_content==[]:\n",
    "            review_content = soup_review.findAll('div',attrs={'class':['cmp-Review-text'],'data-tn-component':['reviewDescription']})\n",
    "            reviews=[row.text for row in review_content]\n",
    "            for y in range(len(review_content)):\n",
    "                review_element=reviews[y].split('Pros')[0]\n",
    "                reviews[y]=review_element\n",
    "                pros_element=reviews[y].split('Pros')[-1].split('Cons')[0]\n",
    "                if pros_element!=review_element:\n",
    "                    pros_s[y]=pros_element\n",
    "                else:\n",
    "                    pros_s[y]=\"NA\"\n",
    "                cons_element=reviews[y].split('Pros')[-1].split('Cons')[-1]\n",
    "                if cons_element!=review_element:\n",
    "                    cons_s[y]=cons_element\n",
    "                else:\n",
    "                    cons_s[y]=\"NA\"\n",
    "        review.append(reviews)\n",
    "        pros.append(pros_s)\n",
    "        cons.append(cons_s)"
   ]
  },
  {
   "cell_type": "code",
   "execution_count": 4,
   "metadata": {},
   "outputs": [
    {
     "name": "stdout",
     "output_type": "stream",
     "text": [
      "[['Veritone'], ['Hulu'], ['Deloitte'], ['City National Bank'], ['University of California Los Angeles'], ['ZS Associates'], ['Snap Inc.'], ['UCLA Health'], ['University of Southern California'], ['Next Trucking'], ['KPMG'], ['Martin Luther King, Jr. Community Hospital'], ['Pfizer Inc.'], ['Riot Games'], ['Accenture'], ['Health Services Advisory Group, Inc.'], ['UC San Diego'], ['FabFitFun'], ['ModCloth'], ['Cedars-Sinai'], ['ServiceTitan'], ['MUFG'], ['Viacom'], ['Hyperloop Transportation Technologies'], ['Amazon.com'], ['SAP'], ['California State University'], ['American Heart Association'], ['L.A. CARE HEALTH PLAN'], ['Survios'], ['Walmart'], ['DATAIKU'], ['Starz Entertainment, LLC'], ['General Assembly'], ['Citi'], ['Capgemini'], ['Meredith Corporation'], ['Third Republic'], ['Publicis Sapient'], ['Inspire'], ['Google'], ['opendoor'], ['Houlihan Lokey'], ['Union Bank'], ['Bridg'], ['Creative Artists Agency'], ['Infosys'], ['Penn Schoen Berland'], ['Movio']]\n"
     ]
    }
   ],
   "source": [
    "#print(review_date)\n",
    "print(company)"
   ]
  },
  {
   "cell_type": "code",
   "execution_count": 5,
   "metadata": {},
   "outputs": [
    {
     "name": "stdout",
     "output_type": "stream",
     "text": [
      "[['Has potential, but job stability is always in question', 'Great people, but planning leaves something to be desired', 'Good company with creative atomsphere', 'Start up company with amazing AI promise'], [\"It's okay\", 'Was a model of a new kind of company but is now just another company', 'Amazing Place to Work!', 'Environment filled with perks and fun, but not a ton of return', 'Can’t have a life.', 'Innovative and stimulating place to work.', 'Great company culture, fun place to work.', 'Great place to work if you are entitled', 'Could wear what you want.', 'Working in Broadcast Operations is Enjoyable', 'Place sucks', 'Proceed with caution', 'Great place to work', 'Productive fun place to work', 'Management and this place is a joke', 'Hulu is the greatest', 'Fun work place, productive, etc.', 'Excellent company to work for', 'Its is not a hard job', 'n/a', 'Great Company, Not so great office culture'], ['Productive workplace, difficult work life balance', 'Hard work environment', 'if you are consultant you should work at Deloitte', 'Great company for development', 'Good Place to start career', 'Na', 'no worklife balance', 'Clear path forward, but you have to want it', 'Good place to start your career.', 'Excellent', 'Excellent environment with opportunity', 'Productive and Culture Driven Environment', 'Own your career', 'Very challenging, but great place to work', 'Firm is too large', 'Vibrant Enviornment to work and florsh', 'You own your career with Deloitte', 'Great company to work for', 'Opportunity to explore new technologies and hone skill sets', 'Great place', 'Productive and fun workplace'], ['Client Centric', 'Good Company', 'its all about management liking you', 'Professional', 'Money not worth the stress', 'Great Company to work for', 'professional, people oriented, helpful', 'Friendly, helpful and a great work environment', 'Partnership with RBC', 'I love City National Bank', 'Good place to work at', 'No review at the moment', 'Great place to work', 'Loved this company', 'Supportive Leadership', 'Keep working with tiny raise', 'One wears too many hats without any help from others.', 'loved working with the people', 'Collections leadership', 'productive place to work', 'Very poor management, all the way up to the VP'], ['#1 Health System in the West', 'Bureaucracy makes working here difficult.', 'Need more work', 'Great department with strong focus on the students', 'I loved to work there, i am very responsible with my work.', 'Wonderful place to work', 'Productive and consistent working environment', 'Difficult for faculty & staff of color', 'Productive and efficient place to work', \"Most employees don't leave until retirement\", 'Pros and cons', 'Private  off campus location', 'Summary', 'Great Workplace', 'Excellent experience', 'Temporary', 'can be good, can be bad public means it attracts public scool type people', \"Good workplace, opportunities to develop diverse skillset. If you're a student with the skills, go for it.\", 'Great Place to Work', 'Good experience and good place to work', 'Flexible environment'], ['Less Stressful Environment than Typical Consulting Firms', 'Na', 'Smart, hardworking people focused on Healthcare', 'Great first job, fun office culture', 'Great benefits and work life balance, but management is not a leader', 'Sr. Associate', 'Productive, Collaborative and Fun', 'One of the best company for starting your career, need to navigate career right way', 'Crucible of learning', 'Enjoy working at ZS', 'Great specialized consulting company', 'ZS review', 'ZS review', 'Dramatic', 'Great Compant', 'Poor management, but challenging work and good colleagues', 'Who will save IT department', 'Good experience for future employment', 'Great people to work with, but very much sink or swim', 'Nice Company to work', 'Excellent niche consulting organization'], ['Young start up with many hiccups', 'Interesting Place to Work', 'Fun at times but stressful work enviornment', 'Fun place', 'What a great experience!', 'Excellent', 'N/a', 'Sinking Ship', 'Poor upper management', 'Toxic environment', 'Great working environment', \"Poor management with little insight into one's own performance\", 'Cool but mismanaged', 'Nice work if you can get and keep it.', 'Needs Improvement', 'Poor Executive Management Team', 'Wonderful workplace!', 'lack of support from management, confusing strategy, bad decisions', 'Cut throat.', 'Competitive as well as collaborative workplace with great company culture', 'great and positive workplace and company'], ['Amazing place to work!', 'UCLA Health System', 'I enjoyed every minute of working with UCLA', 'Great place to work', 'Great Medical Care', 'A typical day at work', 'Transportation Department', 'This is a competitive environment and your work is not always the measurement', 'Best in UC Health System', 'Great culture', 'Efficient workplace with detail to patient safety and quality of care', 'Excellent and quality care', 'UCLA is a great place to work', 'Smart colleagues.', 'Former Employee', 'productive by highly demanding and stressful', 'fun close knit group', 'Great place to work for', 'Progress based on your individual drive and knowledge.', 'Summary', 'Can be exciting to work at UCLA but hard to move up and tricky work environment.'], ['Fantastic workplace culture and challening environment', 'I taught twice  a month', 'Student-Athlete', 'First summer internship', 'An Unethical Academic environment!', 'Nice activities for employees', 'Nice place to work.', 'Obtaining New Skills', \"Best company that I've ever worked for\", 'Lots of politics guiding decision making in campus', 'Productive, Fun Place, Free Snacks, Drinks, Ping Pong Table.', 'Productive and very detailed oriented', 'good school', 'Engaging Place', 'nice place', 'Great Benefits', 'Many resources but problems with administration', 'A world class university', 'Great school', 'Abusive, cruel dean about says it all.', 'I enjoyed my time working at USC'], ['Over Promise, under deliver', 'Don’t waste your time', 'Phenomenal opportunity to enhance a major industry', 'Next was a great company to work but changes has come to the company and thats where I feel that all went down.', 'It’s definitely not worth joining the co', 'No management No Policy No structure', 'ok, honestly', 'Stay away / beware', 'Fast growing company with so much potential.', 'Not the best place to work', 'Coworkers are great'], ['KPMG is a great place to work.', 'KPMG culture', 'Difficult work/life balance', 'Lots of changes at the Firm; had a mixed experience', 'Not a good place to work', 'Toxic work environment', 'KPMG is driven by its mission, customer centricity, and value creation services.', 'Workplace', 'Good place to start a career', 'Good start to my career', 'Love-Hate feelings', 'Work life balance and stablity', 'look elsewhere', 'I really like working for KPMG it was a great place to work and close to my home in Buckhead', 'Great place to work and grow your career', 'Expect long hours and poor pay', 'No work /Personal life balance', 'Příjemná firemní kulktura s množstvím mladých lidí na pracovišti', 'Great place to build a career', 'Life at KPMG has more downs than ups', 'Excellent Opportunities'], ['very fast paced, sometimes patient safety is compromised as well as your license!!', 'One of the Best Companies that I have had the pleasure to work for.', 'Pt safety concerns', 'Very busy and stressful but worth it.', 'Recommendations', 'State-of-the-art hospital with heart', 'Best place to work', 'Was fun to work there', 'Evs aide', 'Great Place to work', 'Work in Progress', 'Fast paced environment with multiple resources', 'Collaborative', 'Horrible place', 'king drew intern', 'Great place to work', 'Rewarding', 'Nightmare on Elm Street', 'Depends on who you are', 'Great place to work', 'REview summary for MLK Community hospital'], ['Innovative Medical Device Company', 'Productive place to work', 'Pfizer in Rocky Mount', 'I loved Pfizer', 'great environment to work in', \"Shouldn't really complain\", 'Just a temp', 'Good Internship', 'Each day is a new exciting challenge', 'Diversified company providing opportunities', 'Comparable work environment, but there were challenges', 'Ok place to work', 'Lots of drama. Like you are in high school again.', 'Its not very ideal', 'Lack of community but great location', 'Great place to work', \"The best place I've worked\", 'An excellent place to work!!!', 'Phamacutial', 'fast paced company focused on quality products', 'Interesting projects and wonderful people to work with'], ['Comfort Zone', 'Great', 'Great work culture', 'Look for the helpers', 'Fun environment for gamers', 'Friendly environment with all you can eat', 'Fun work place with poor management', 'Gaming Company with Gaming Culture', \"A wonderful environment, but don't get too comfortable\", \"If you're passionate about games its good, if you like having a life and being compensated for your skills, not so much\", 'Manager', 'Cult', 'A company I loved and admired, but riddled with management woes', 'Very fun place to work', 'Fast-paced, continuously evolving environment', 'Unproductive place to go to stagnate', 'Great place to grow', 'Great gamer culture with growing pains', '@Riot', 'Very Fun Place To Be', 'Productive and Fun Work Place'], ['Professional Culture', 'Significant travel', 'Great employer with even greater people', 'Nice place to work', \"Salary is good, but you won't be placed on your choice of career.\", 'strong performeer in the digital, outsourcing and consukting practice', 'Fairly Good', 'Bias', 'Enthusiastic, energizing, and learning enviornment.', 'Do what you are told or you are out.  They want your opinion, but do little with it.', 'Don’t waste your time.', 'All is good.', 'Accenture', 'Hard working but fun', 'Productive and competitive workplace', 'SHADY company! RUN! (San Jose Office)', 'good company', 'Something for everybody', 'Productive and fun work place', 'Nice place to work', 'Accenture'], ['Decent working experience, fun staff, great benefits.'], ['Great pharmacy students', 'Interdisciplinary program with potential for growth', 'Enjoyable work place', 'Fun place to work as a student employee', 'Awesome full time employees and they work with your student schedule.', 'Good Work environment', 'great place to rub shoulders with smart passionate people', 'challenging', 'Collaborative and Progressive', 'Productive', 'Good environment', 'Student Researcher position.', 'Fun and accommodating workplace with great coworkers and PI', 'It was good for a part time job.', 'Typical work day', 'Great experience', 'productive and fun place to work', 'Fun workplace with easy scheduling', 'my career review in a nutshell', 'Overall good experience', 'Good Student Job'], ['The job is pretty easy.', 'I miss this place', 'I would recommend working at this company.', 'I worked here', 'Slow drama workplace', 'Trabajo fácil', 'Over worked', 'ManPower Temp', 'Its a fast pace working environment 12 hr shifts', 'making boxes in production and fulfillment lines', 'Working at a fast pace', 'Bad environment', 'Ok Job', 'It is imperative to have English speaking supervisors.', 'Friendly atmosphere', 'Fun place to work', 'productive and fun', 'Management', 'Excellent Workfield', 'Productive work place', 'Productive workplace'], ['Fun work place, incredible people`', 'Good colleagues, challenging business', 'Ok place to work if you want to have to mandatory 10 hours overtime everyweek. Reason why I took job was due to schedule and was to be 4 10 hour days', 'Terrible executive team', 'I loved working for ModCloth', 'Toxic at store level!', 'Just don’t', 'Nice place to work with some perks', 'Good at first, terrible by the end', 'Do not get a job at mod cloth', 'Highly unorganized, way to laid back, no respect towards employees', 'Seemingly refreshing. Ultimately defeating', 'Great people within the company, but the original vision have definitely been lost over time.', 'Loose and easy-going workplace', 'They had an employee picnics and food trucks', 'unflexible', 'Workplace', 'I do not suggest', 'Highly Toxic', 'Underpaid and under appreciated', 'N/a'], ['Inpatient/ Outpatient Acute Care Hospital', 'Best company / hospital to work for', 'Do not have one at this time', 'Very educational and challenging.', 'N/a', 'Great Hospital', 'Working at Cedars Sinai', 'Amazing place to work', 'n/a', 'Everyone is miserable', 'Outdated policies, too many politics, favoritism', 'I loved my job', 'Too much politics', 'Don’t Work Here', 'Good way to meet others', 'Cedar Sinai is a wonderful company, not only provide excellent medical care but they treat employee with respect, highly recommend', \"It's a state of the art place for health reasons. The pay is great for some departments.\", 'Cutting edge medical center.', 'World Renowed Reputation', 'Very Organized management', 'No Employee Support'], ['Call my cell phone - a little crunched on time', 'Great place to work!', 'Great Company Culture', 'People leave bad managers', 'Great people, strategic company, long hours', \"Best job I've ever had\", 'Productive and fun workplace.'], ['An OK position and company', 'Was leuk', 'Great work site', 'Imminent Work Force Reduction', 'mufg ia a wonderful place to work', 'Leadership Nightmare', 'Poor IT Infrastructure, and work-life balance', 'Productive Place to Work', 'busy working environment', 'Ok company', 'Relax and professional work environment', 'professional work environment', 'Busy fast paced environment', 'High level of churn and disorganization', 'Worst job experience ever', 'Bank is in transition', 'Good company to work', 'Japanese Bank', 'Great Place to work as a student', 'No respect for time away from Work', 'Very productive and innovative company'], ['N/a', 'Great Team Support, Corporation as a whole needs work', 'Productive workplace', 'Hard-working, focused and productive environment', 'work from home internship', '1st class working experience', 'Great creative environment', 'Experience is dependent on the team you work with, and free breakfast', 'Good work environment', 'A place that used to be exciting but is not anymore', 'Great experience', 'Micro management and Meetings', 'Fun Place to work', 'fun work place and productive', 'Very Diverse', 'Fun environment, but going through changes right now.', 'Exciting and Challenging Work Environment', 'Productive and fun depending on current management', 'Made lifelong relationships', 'Production Assistant', 'Growth, where?'], ['stock options', 'Talented Individuals and Flexible Work Culture', 'Weird place', 'Cutting edge new mode of transportation moving people at the speed of sound'], ['Porductive place to get on your feet.', 'First come, First serve for extra hours', 'Great work place.', 'flexible hours and paid vacation', 'It was ok', 'Have to meet speed + quality quota to survive!', 'Vary pushy and no consideration for people with disabilities', 'Worker beware', 'A job for between jobs', 'very fast paced workplace', 'Great Place to work', 'Physical work, good job if you are a hardworker', 'Productive, relaxed but sometimes fast paced, never stressful', 'It was decent to work there. Except..', 'Poor Management', 'Easy Job', 'A well-oiled yet challenging machine.', 'amazon is very big company', 'Run.', 'It was sometimes a fun place to work.', 'Great short term job - Physically demanding - Run by mostly young people'], ['Excellent company to work for.', 'I am an Employee!', 'Good Workplace, Great Coworkers but they treat their Contractors bad', 'Fun to work here', 'best boss ever', 'Great company to work for with great intangible benefits', 'A declining giant focused solely on metrics.....', 'SAP Is Great', 'Overall - an enjoyable work experience', \"A good culture for employees but Concur's leadership is lacking in vision and execution.\", 'Ambiente de trabajo muy exigente', 'Stellar!', 'Great Great Job', 'Good work/life balance', 'Poor company', 'i am happy to work by SAP Business One', 'Strict Dress Code', 'Highly collaborative and supportive company', 'Great place for young adults', 'Cool workplace to kickstart your career', 'Challenging Work, Great Culture, Too Many Oxygen Vampires'], ['IT Student Assistant', 'Highly inclusive environment', 'Good Place to work', 'High hopes, poor paypout', 'Good college experience', 'My rewarding', 'Learn something new everyday in a fun environment', 'Cool People', 'The most amazing staff and to work with', 'Basically like all academia', 'California State University', 'Benefits', 'Fun Workplace', 'Discrimination  gainst hiring full time faculty of color', 'Amazing University.', 'Good place to work, only the payment could be better', 'It was okay', 'Professional Learning Community', 'Exciting Workplace', 'Great experience.  Wish I could have stayed longer and transitioned to another HRDI position.', 'Productive and enjoyable workplace'], ['Great employees but it may be appropriate to provide training for Supervisors', 'Fun and productive', 'I do not know about this.', 'Great Mission', 'Long hours', 'CPR Instructor', 'Fast paced and constantly changing', 'Logistics Committee', 'Do not apply', 'A good place to work with a great mission', 'great', 'Concur with reviews of SouthWest Affiliate - HORRIBLE', 'Keep looking because this is not the job for you.', 'Very satisfying in helping others', 'Good place to work', 'Good place to start off to learn some basic computer and office skills, but opportunities for developmental growth are limited.', 'Toxic Micromanaging Environment', 'Good cause, bad management', 'Very productive environment', 'Aha', 'Great Team to be a part of'], ['Nice company to work for.', 'Job Security', 'Busy yet rewarding experience', 'Toxic Management', '4-1/2 years and no future here', 'Enjoyable place to work', 'Its a job not a career', 'Apply if you have no life', 'Great experience', 'Great benefits, supportive collaborative environment, opportunity for career advancement', 'Worst', 'Looking for people to work themselves to death', 'Poor Management', 'Avoid working here.', 'Very stressful, and management is horrible, just like QA.', 'Compliance department', 'Productive, Hardworking Environment', 'Productive but the fun that you have is dependent on you', 'Think Twice', 'Good place to work overall', 'Good experience'], ['People are great!', 'One of the most amazing places to work!', 'Survios is a great place to spend time on and off the clock.', 'Innovative VR company but lacks Product Management discipline', 'A challenging and rewarding experience.', 'Great environment with great coworkers!'], ['Relaxed, Flexible, Dependable Job', 'They dont care about their employers', 'Walmart is a very sressful place', 'Ehhh', 'Good place to work', 'Great Atmosphere', 'Good', 'Challenging', 'Not a place you want to work permanently.', 'Productive work place', 'Great first job!', \"I'd go back if I needed to\", 'A decent retail job that teaches life skills', 'I enjoyed my time here.', 'hate it', 'Great Job', 'Job is straight forward. But most run skeleton crews', 'Fast pace but friendly environment', 'Terrible Management, Low Pay, little room for advancement.', 'It was job that help pay the bills', 'Overall: Great Place to work'], [], ['Good benefits and flexibility but lots of complacency', 'Contract position', \"This One's a Keeper\", 'Amazin growth experience', 'Starz', 'Great place to work with a big break', 'Starz is an excellent company to work for as a developer', 'Great Internship Experience', 'Great Corporate Culture - Work/Balance Focused', 'Awesome company!', 'Starz was a great place to work', 'Ok place, but chaos nowadays', 'Always fearful of losing job', 'Changing workplace', 'Great Company - Short-Term Contract', 'Entertaining and fun', 'There were a lot of great people there. Change in management not so much.', 'A trip to N. Korea', 'Strong company with good benefits.', 'Ups and Downs', 'productive and fun place to work'], ['Productive swing shifts', 'Great learning environment', 'Great place to learn', 'Collaborative learning environment', 'Great Place to Learn and Work', 'Fun', 'Encouragement and mentoring', 'General Assembly', 'Pioneer in the EdTech Space', 'productive and fun', 'Fast paced and interesting', 'Laid back and chill', 'Data, data, data', 'SEI Bootcamp', 'Great community and place to transition into tech', 'Excellent Programs', 'Productive and interesting place to work', 'Flexible work environment', 'GM is a very high paced manufacturing environment', 'workplace culture', 'Fun place to work, great people'], ['Executive Assistant', 'Great supervisor', 'Ok company', 'Your screwed', 'Good company', 'Citi is a wonderful client reasonable goals', 'Productive work environment', 'It was great before...', \"It's alright\", 'Working with Citi', 'Neoptism and a lack of diversity support impacts the culture.', 'Citi has managers in place that will not hire anyone smarter than them.', 'N/a', 'Similar to most large Corporations/Banks', 'Attempts to include everyone in its Culture', 'Work', 'Customer Service', 'ok', 'Great place to work', 'good', 'Can be a great place for a career'], ['Great team', 'Good co workers thats about it', 'Generally, a good experience.  Challenging work.', 'Productive and Fun at work', 'benefits good . opportunity to advance not good', 'cool and very laid back', 'Hodgepodge Place', 'all in a days work', 'Capgemini was good for me at that time unless salary', 'not recommending', 'Very fragmented', \"Worst company I've ever worked for\", 'Everyone is super nice, but nobody goes anywhere.', 'Fun to work', 'Very political and work overload', 'Need proper integration of  acquired companies', 'Not great as before. Poor senior Managment', 'Good company to work for', 'Mediocre company to work for', 'Great place to start a career for recent grads', 'Over  all a great experience'], ['Productive and well balanced work', 'Horrible Management', 'A great company to work as freelancer', 'Just another corporate enviornment', 'New management is lacking', 'I like the working environment and the teams help.', 'Toxic', \"It's News, what more can I say?\", 'fun place to work', 'Good Location', 'No room for growth', 'Meredith is a good company', 'Great environment and management team.', 'Good Place to Work', 'Corporate Culture', 'Strong Player in a declining industry', 'Always a busy workplace', 'Challenging Times', 'Creative and dynamic work environment, but there are frequent layoffs.', 'Acquired Time Inc.', 'Management lacks knowledge'], ['Amazing company!', 'Great company', 'Fantastic Company', 'The Staffing Agency of the Future', 'Great place to work', 'Top company', 'Overall a good place to work', 'Forward thinking with a professional environment', 'Professional & Fun', 'Awesome place to work!', 'Great place to be!', 'Great company!', 'Forward thinking company', 'One of the best agencies in London'], ['Good company culture and fun place to work', 'Nothing bad to write about', 'Fun place to work with awesome people', 'Excellent Company', 'Fine to nuts', 'Great time off, stressful time on', 'Productive and great company culture', 'Amazing culture, very collaborative', 'Good Work life balance', 'Very talented organization', 'Good place', 'PS Life', 'Great place to work', 'poor new management', 'Very Productive', 'Nice place to work. The Company has good benefits and unimited vacation', 'A great place to learn', 'Great environment', 'An innovative culture', 'Good company to work for', 'Productive and collaborative culture'], ['Good', 'Great Mission', 'Cheerful work enviorment', 'Be patient and honest', 'Excellence', 'Summary review', 'Excellent new and expanding company', 'more like a romper room', 'Nice people', 'Awful', 'Difficult but rewarding.', 'There is no room for advancing. You will never get a raise and the management is poor. They do not train employees properly', 'Great', 'Had fun fun traveling'], ['productive and fun', 'Nationwide Travel', 'BTE installer', 'Great place for  Young people was little work experience', 'Excellent place to work.', 'Not a fun place for contract workers', 'Independent Contractor', \"Good pay but the management doesn't care\", 'Self managed sales job, good salary and bonuses', 'Productive and Fun Place To Work', 'Great coworkers', 'Good team but but management', 'I applied to be a YouTube Content Creator', 'Amazing', 'Data Driven Business Teams', 'its amazing and energetic feeling, its challenging and helping more ideas and creativity and knowledge of an individual. Attracting and hiring smart c', 'Fun place to work', 'Nice people to work with.', 'Great place to work', 'Fun, and ever-changing, but hard to maintain social ties.', 'Amazing exposure that accelerates growth'], ['Stay away', 'Challenging work with great people', 'Productive and fun work environment.', 'Learning everyday', 'Bad Company', 'Stay away', 'No objective and no clear sense of direction lacks upper management and Skills', 'Technology company that is prone to mass layoffs', 'Terrible management - upper management - basic human kindness is lacking!', 'Fun workplace, good people', 'Productive and fun work place with many awesome/fun benefits', 'Needs structured training for new hires', 'Where Tech meets Construction...', 'Unstable company', 'Great place to work', 'crooked', 'Unhealthy Work/Life Balance', 'A strange place in which you will work for free', 'Stay away', 'YoYo company, Beware of poor Management', 'Not a good place to work'], ['Great company', 'Great opportunity to advance in a great company', 'Friendly staff', 'relaxing', 'High Quality Investment Bank', 'Watch Your Affiliations and Dont get Comfortable', 'Great benefits and company outings', 'A very productive project team', 'Review', 'Do not work here', 'Good place to work, set my own hours', 'Great Place to Launch Your Career', 'Great Side Job', 'promising opportunity for those looking', 'Fun Place to work.', 'Nice group of people and respectful environment', 'Very fun place to work, with nice people', 'Productive Workplace', 'Good Restructuring Deal Flow', 'Productive Fun workplace', 'Great investment bank to work for.'], ['Productive and fast paced environment', 'Terrible', 'Love working with my co-workers and managers!', 'Meets expectations', 'I enjoyed working at Union Bank', 'Enjoyed being a part of a progressive team.', 'Good Organization to work for', 'Typical day at work', 'Poor Salary and stressed under the job', 'Not a healthy place for technical people.', 'Stressful', 'Productive and enjoyable', 'Great company and great team. Not that many hours.', 'Great Job', 'Union Bank', 'Very nice co-workers,', 'Temporary work', 'Not a diverse work culture.', 'Good work', 'AWFUL Staff cuts', 'Union Bank - Short term opportunities'], ['Stay away !', 'There is no clear direction for you and your career', \"It's all on the management\", 'There is a lack of benefits and support from the management', 'Stay as far away as you can!', 'Bad Pay', 'great opportunity', 'Fun workplace and incredible team', 'Fun Startup', \"Productive, fun place where things are rapidly changing.  Yes, there's a ping pong table.\"], ['Intense music industry job with expectancy to work long hours', 'Tough but Collaborative', 'Creative work space but zero work life balance', 'Nice agents but poor management in Office Services department', 'It was cool to se sports starts coming in and out of the office', 'CAA is the place to be...', 'CAA gave me a great education on the entertainment industry', 'A fun, competitive environment', 'A Work Environment that focuses on culture', 'If you want to enjoy your job, do not work here', 'The company that introduced me to the entertainment industry', 'Great place to learn all the tools of a great assistant', 'Great Experience but Low Pay', 'Worth it depending on industry but can set you back', 'Perfect for the industry.', 'Productive place to learn', 'Great company for the young and hungry', 'Great place to begin a career', 'requires thick skin', 'Terrible Management', 'Perfect Introduction To World of Entertainment'], ['Ok', 'Management was not good', 'A Good company to work', 'Good company to learn with good job securtiy', 'Dont work here', 'depends on account and management', 'Great for starting the IT career', 'Processes & company culture make it difficult to launch at Infosys.', 'Work life balance', 'InfoSys', 'Good experience', 'Slow Growth rate', 'Productive and very good place to work', 'Average', 'Poor company for advancement and inclusion.', 'Horrible', 'It is a good place to learn new things.', 'Productive and Hassle-free environment', 'The ability to work remote', 'Poor management', 'Good and Progressive'], ['Fun work environment', 'Pretty young and hip workplace', 'Intelligent people passionate about research'], []]\n"
     ]
    }
   ],
   "source": [
    "print(title)"
   ]
  },
  {
   "cell_type": "code",
   "execution_count": 10,
   "metadata": {},
   "outputs": [],
   "source": [
    "for i in range(len(title)):\n",
    "    if company[i]==[]: \n",
    "        print (\"The list is empty\")\n",
    "        print(i)"
   ]
  },
  {
   "cell_type": "code",
   "execution_count": 217,
   "metadata": {},
   "outputs": [],
   "source": [
    "review_content=['Too many parts moving at the same time with unrealistic time-frames.  Lay-off occur randomly with no prior notification, or explanation to remaining employees why the occurred.ProsCool new industryConsRandom unexplained lay-offs', \"- Relaxed work hours where most managers don't micromanage- Management often show poor planning for projects and goals- Uses an up-to-date technology stack- Hardest part of the job is dealing with 'fires' that keep coming up- Most enjoyable part of the job is interacting with the fellow engineers\", 'A company offers good atmosphere at creative tasks on machine learning. During the time here I enjoyed the time of exploring state-of-the-art technology.', 'Great AI resources coming out of this soon to be tech heavyweight. Will be the leader in the space until Google or Amazon buys them outright. The world has nothing like Veritone so far.ProsCutting edge companyConsStart ups usual challenges']"
   ]
  },
  {
   "cell_type": "code",
   "execution_count": 219,
   "metadata": {},
   "outputs": [
    {
     "ename": "IndexError",
     "evalue": "list assignment index out of range",
     "output_type": "error",
     "traceback": [
      "\u001b[0;31m---------------------------------------------------------------------------\u001b[0m",
      "\u001b[0;31mIndexError\u001b[0m                                Traceback (most recent call last)",
      "\u001b[0;32m<ipython-input-219-5a9f9d61a553>\u001b[0m in \u001b[0;36m<module>\u001b[0;34m\u001b[0m\n\u001b[1;32m      2\u001b[0m             \u001b[0;32mfor\u001b[0m \u001b[0mz\u001b[0m \u001b[0;32min\u001b[0m \u001b[0mrange\u001b[0m\u001b[0;34m(\u001b[0m\u001b[0mlen\u001b[0m\u001b[0;34m(\u001b[0m\u001b[0mreview_content\u001b[0m\u001b[0;34m)\u001b[0m\u001b[0;34m)\u001b[0m\u001b[0;34m:\u001b[0m\u001b[0;34m\u001b[0m\u001b[0;34m\u001b[0m\u001b[0m\n\u001b[1;32m      3\u001b[0m                 \u001b[0mreview_element\u001b[0m\u001b[0;34m=\u001b[0m\u001b[0mreview_content\u001b[0m\u001b[0;34m[\u001b[0m\u001b[0mz\u001b[0m\u001b[0;34m]\u001b[0m\u001b[0;34m.\u001b[0m\u001b[0msplit\u001b[0m\u001b[0;34m(\u001b[0m\u001b[0;34m'Pros'\u001b[0m\u001b[0;34m)\u001b[0m\u001b[0;34m[\u001b[0m\u001b[0;36m0\u001b[0m\u001b[0;34m]\u001b[0m\u001b[0;34m\u001b[0m\u001b[0;34m\u001b[0m\u001b[0m\n\u001b[0;32m----> 4\u001b[0;31m                 \u001b[0mreviews\u001b[0m\u001b[0;34m[\u001b[0m\u001b[0mz\u001b[0m\u001b[0;34m]\u001b[0m\u001b[0;34m=\u001b[0m\u001b[0mreview_element\u001b[0m\u001b[0;34m\u001b[0m\u001b[0;34m\u001b[0m\u001b[0m\n\u001b[0m\u001b[1;32m      5\u001b[0m                 \u001b[0mpros_element\u001b[0m\u001b[0;34m=\u001b[0m\u001b[0mreview_content\u001b[0m\u001b[0;34m[\u001b[0m\u001b[0mz\u001b[0m\u001b[0;34m]\u001b[0m\u001b[0;34m.\u001b[0m\u001b[0msplit\u001b[0m\u001b[0;34m(\u001b[0m\u001b[0;34m'Pros'\u001b[0m\u001b[0;34m)\u001b[0m\u001b[0;34m[\u001b[0m\u001b[0;34m-\u001b[0m\u001b[0;36m1\u001b[0m\u001b[0;34m]\u001b[0m\u001b[0;34m.\u001b[0m\u001b[0msplit\u001b[0m\u001b[0;34m(\u001b[0m\u001b[0;34m'Cons'\u001b[0m\u001b[0;34m)\u001b[0m\u001b[0;34m[\u001b[0m\u001b[0;36m0\u001b[0m\u001b[0;34m]\u001b[0m\u001b[0;34m\u001b[0m\u001b[0;34m\u001b[0m\u001b[0m\n\u001b[1;32m      6\u001b[0m                 \u001b[0;32mif\u001b[0m \u001b[0mpros_element\u001b[0m\u001b[0;34m!=\u001b[0m\u001b[0mreview_element\u001b[0m\u001b[0;34m:\u001b[0m\u001b[0;34m\u001b[0m\u001b[0;34m\u001b[0m\u001b[0m\n",
      "\u001b[0;31mIndexError\u001b[0m: list assignment index out of range"
     ]
    }
   ],
   "source": [
    "if review_content!=[]:\n",
    "            for z in range(len(review_content)):\n",
    "                review_element=review_content[z].split('Pros')[0]\n",
    "                reviews[z]=review_element\n",
    "                pros_element=review_content[z].split('Pros')[-1].split('Cons')[0]\n",
    "                if pros_element!=review_element:\n",
    "                    pros_s[z]=pros_element\n",
    "                else:\n",
    "                    pros_s[z]=\"NA\"\n",
    "                cons_element=review_content[z].split('Pros')[-1].split('Cons')[-1]\n",
    "                if cons_element!=review_element:\n",
    "                    cons_s[z]=cons_element\n",
    "                else:\n",
    "                    cons_s[z]=\"NA\""
   ]
  },
  {
   "cell_type": "code",
   "execution_count": 213,
   "metadata": {},
   "outputs": [
    {
     "name": "stdout",
     "output_type": "stream",
     "text": [
      "[]\n"
     ]
    }
   ],
   "source": [
    "print(reviews)"
   ]
  },
  {
   "cell_type": "code",
   "execution_count": 196,
   "metadata": {},
   "outputs": [
    {
     "data": {
      "text/plain": [
       "list"
      ]
     },
     "execution_count": 196,
     "metadata": {},
     "output_type": "execute_result"
    }
   ],
   "source": [
    "f date_of_review!=[]:\n",
    "            date_of_review=[row.text for row in date_of_review]\n",
    "        if date_of_review==[]:\n",
    "            date_of_review= soup_review.findAll('span',attrs={'class':['cmp-ReviewAuthor'],'itemprop':['author'],'itemtype':[\"http://schema.org/Person\"]})\n",
    "            date_of_review=[row.text for row in date_of_review]\n",
    "            for x in range(len(date_of_review)):\n",
    "                element=date_of_review[x].split('-')[-1]\n",
    "                date_of_review[x]=element\n",
    "        review_date.append(date_of_review)"
   ]
  }
 ],
 "metadata": {
  "kernelspec": {
   "display_name": "Python 3",
   "language": "python",
   "name": "python3"
  },
  "language_info": {
   "codemirror_mode": {
    "name": "ipython",
    "version": 3
   },
   "file_extension": ".py",
   "mimetype": "text/x-python",
   "name": "python",
   "nbconvert_exporter": "python",
   "pygments_lexer": "ipython3",
   "version": "3.7.3"
  }
 },
 "nbformat": 4,
 "nbformat_minor": 2
}
